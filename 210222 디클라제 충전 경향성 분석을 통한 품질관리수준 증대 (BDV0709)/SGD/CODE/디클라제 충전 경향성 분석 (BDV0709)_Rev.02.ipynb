{
 "cells": [
  {
   "cell_type": "markdown",
   "metadata": {},
   "source": [
    "**▣ 디클라제 충전 경향성 분석 (BDV0709)_Rev.02**\n",
    "\n",
    ">- 목표 : 충전수율 일탈 배치의 충전 공정 문제점을 확인하고자 함\n",
    ">- 일탈 배치 : SGD20015\n",
    ">- 분석 대상 : SGD20010~16\n",
    ">- 관련 문서 : BDV0709 디클라제(SGD20015) 충전수율(65.4%) 기준수율(71.7%) 미달 건"
   ]
  },
  {
   "cell_type": "markdown",
   "metadata": {},
   "source": [
    "# Define"
   ]
  },
  {
   "cell_type": "markdown",
   "metadata": {},
   "source": [
    "## Step01 개선 기회 탐색\n",
    "* 정보화된 시스템을 통해 분말 충전기 현황을 파악함"
   ]
  },
  {
   "cell_type": "markdown",
   "metadata": {},
   "source": [
    "## Step02 개선 기회 발굴 및 과제 선정\n",
    "* Y-y 전개 : 분말 충전 수율 개선 - 충전기 점검 포인트 도출\n",
    "- 분석 대상 설비 : 충전기(FL-SG-101)\n",
    "- 분석 대상 Data : 충전량 Rectrospective 분석"
   ]
  },
  {
   "cell_type": "markdown",
   "metadata": {},
   "source": [
    "## Step03 Project Y 선정\n",
    "* Project Y : 일탈 배치의 충전량 저하 원인 분석\n",
    "* 실현 방안 : 최근 배치들의 분말 충전량/Loss량 분석"
   ]
  },
  {
   "cell_type": "markdown",
   "metadata": {},
   "source": [
    "# Measure"
   ]
  },
  {
   "cell_type": "markdown",
   "metadata": {},
   "source": [
    "## Step04 데이터 수집 및 검증 계획 수립\n",
    "\n",
    "**데이터 수집 계획**\n",
    "\n",
    "* 제품 : 디클라제\n",
    "* 배치 : SGD20010~16\n",
    "* 수집 기간 : '20년 10월 ~ 11월\n",
    "* 변수 : 26 Columns"
   ]
  },
  {
   "cell_type": "markdown",
   "metadata": {},
   "source": [
    "## Step05 데이터 Set 구성"
   ]
  },
  {
   "cell_type": "code",
   "execution_count": 133,
   "metadata": {},
   "outputs": [],
   "source": [
    "import numpy as np\n",
    "import pandas as pd\n",
    "\n",
    "import matplotlib.pyplot as plt\n",
    "%matplotlib inline \n",
    "\n",
    "from matplotlib.pylab import rcParams\n",
    "rcParams['figure.figsize'] = 12, 8\n",
    "rcParams['font.family'] = 'New Gulim'\n",
    "rcParams['font.size'] = 20\n",
    "rcParams['axes.unicode_minus'] = False\n"
   ]
  },
  {
   "cell_type": "code",
   "execution_count": 134,
   "metadata": {},
   "outputs": [],
   "source": [
    "# Machine Learning Library\n",
    "\n",
    "from sklearn.linear_model import LogisticRegression\n",
    "from sklearn.svm import SVC, LinearSVC\n",
    "from sklearn.tree import DecisionTreeClassifier\n",
    "from sklearn.ensemble import RandomForestClassifier\n",
    "from sklearn.decomposition import PCA\n",
    "\n",
    "from sklearn.model_selection import train_test_split\n",
    "\n",
    "# accuracy measure\n",
    "from sklearn import metrics"
   ]
  },
  {
   "cell_type": "code",
   "execution_count": 21,
   "metadata": {},
   "outputs": [
    {
     "data": {
      "text/html": [
       "<div>\n",
       "<style scoped>\n",
       "    .dataframe tbody tr th:only-of-type {\n",
       "        vertical-align: middle;\n",
       "    }\n",
       "\n",
       "    .dataframe tbody tr th {\n",
       "        vertical-align: top;\n",
       "    }\n",
       "\n",
       "    .dataframe thead th {\n",
       "        text-align: right;\n",
       "    }\n",
       "</style>\n",
       "<table border=\"1\" class=\"dataframe\">\n",
       "  <thead>\n",
       "    <tr style=\"text-align: right;\">\n",
       "      <th></th>\n",
       "      <th>DATE</th>\n",
       "      <th>TIME</th>\n",
       "      <th>CODE</th>\n",
       "      <th>COUNT</th>\n",
       "      <th>CH-A DATA</th>\n",
       "      <th>UNIT</th>\n",
       "      <th>STATE</th>\n",
       "      <th>CODE.1</th>\n",
       "      <th>COUNT.1</th>\n",
       "      <th>CH-B DATA</th>\n",
       "      <th>...</th>\n",
       "      <th>UNIT.2</th>\n",
       "      <th>STD</th>\n",
       "      <th>AVE</th>\n",
       "      <th>MIN</th>\n",
       "      <th>MAX</th>\n",
       "      <th>MAX-MIN</th>\n",
       "      <th>ERROR</th>\n",
       "      <th>OVER</th>\n",
       "      <th>LOWER</th>\n",
       "      <th>UPPER</th>\n",
       "    </tr>\n",
       "  </thead>\n",
       "  <tbody>\n",
       "    <tr>\n",
       "      <th>0</th>\n",
       "      <td>2020-10-15</td>\n",
       "      <td>08:31:27</td>\n",
       "      <td>14</td>\n",
       "      <td>1</td>\n",
       "      <td>0.0139</td>\n",
       "      <td>g</td>\n",
       "      <td>NaN</td>\n",
       "      <td>NaN</td>\n",
       "      <td>NaN</td>\n",
       "      <td>NaN</td>\n",
       "      <td>...</td>\n",
       "      <td>NaN</td>\n",
       "      <td>NaN</td>\n",
       "      <td>NaN</td>\n",
       "      <td>NaN</td>\n",
       "      <td>NaN</td>\n",
       "      <td>NaN</td>\n",
       "      <td>NaN</td>\n",
       "      <td>NaN</td>\n",
       "      <td>NaN</td>\n",
       "      <td>NaN</td>\n",
       "    </tr>\n",
       "    <tr>\n",
       "      <th>1</th>\n",
       "      <td>2020-10-15</td>\n",
       "      <td>08:31:33</td>\n",
       "      <td>14</td>\n",
       "      <td>2</td>\n",
       "      <td>0.0138</td>\n",
       "      <td>g</td>\n",
       "      <td>NaN</td>\n",
       "      <td>NaN</td>\n",
       "      <td>NaN</td>\n",
       "      <td>NaN</td>\n",
       "      <td>...</td>\n",
       "      <td>NaN</td>\n",
       "      <td>NaN</td>\n",
       "      <td>NaN</td>\n",
       "      <td>NaN</td>\n",
       "      <td>NaN</td>\n",
       "      <td>NaN</td>\n",
       "      <td>NaN</td>\n",
       "      <td>NaN</td>\n",
       "      <td>NaN</td>\n",
       "      <td>NaN</td>\n",
       "    </tr>\n",
       "    <tr>\n",
       "      <th>2</th>\n",
       "      <td>2020-10-15</td>\n",
       "      <td>08:31:39</td>\n",
       "      <td>14</td>\n",
       "      <td>3</td>\n",
       "      <td>0.0141</td>\n",
       "      <td>g</td>\n",
       "      <td>NaN</td>\n",
       "      <td>NaN</td>\n",
       "      <td>NaN</td>\n",
       "      <td>NaN</td>\n",
       "      <td>...</td>\n",
       "      <td>NaN</td>\n",
       "      <td>NaN</td>\n",
       "      <td>NaN</td>\n",
       "      <td>NaN</td>\n",
       "      <td>NaN</td>\n",
       "      <td>NaN</td>\n",
       "      <td>NaN</td>\n",
       "      <td>NaN</td>\n",
       "      <td>NaN</td>\n",
       "      <td>NaN</td>\n",
       "    </tr>\n",
       "    <tr>\n",
       "      <th>3</th>\n",
       "      <td>2020-10-15</td>\n",
       "      <td>08:31:46</td>\n",
       "      <td>14</td>\n",
       "      <td>4</td>\n",
       "      <td>0.0141</td>\n",
       "      <td>g</td>\n",
       "      <td>NaN</td>\n",
       "      <td>NaN</td>\n",
       "      <td>NaN</td>\n",
       "      <td>NaN</td>\n",
       "      <td>...</td>\n",
       "      <td>NaN</td>\n",
       "      <td>NaN</td>\n",
       "      <td>NaN</td>\n",
       "      <td>NaN</td>\n",
       "      <td>NaN</td>\n",
       "      <td>NaN</td>\n",
       "      <td>NaN</td>\n",
       "      <td>NaN</td>\n",
       "      <td>NaN</td>\n",
       "      <td>NaN</td>\n",
       "    </tr>\n",
       "    <tr>\n",
       "      <th>4</th>\n",
       "      <td>2020-10-15</td>\n",
       "      <td>08:31:52</td>\n",
       "      <td>14</td>\n",
       "      <td>5</td>\n",
       "      <td>0.0135</td>\n",
       "      <td>g</td>\n",
       "      <td>NaN</td>\n",
       "      <td>NaN</td>\n",
       "      <td>NaN</td>\n",
       "      <td>NaN</td>\n",
       "      <td>...</td>\n",
       "      <td>NaN</td>\n",
       "      <td>NaN</td>\n",
       "      <td>NaN</td>\n",
       "      <td>NaN</td>\n",
       "      <td>NaN</td>\n",
       "      <td>NaN</td>\n",
       "      <td>NaN</td>\n",
       "      <td>NaN</td>\n",
       "      <td>NaN</td>\n",
       "      <td>NaN</td>\n",
       "    </tr>\n",
       "    <tr>\n",
       "      <th>...</th>\n",
       "      <td>...</td>\n",
       "      <td>...</td>\n",
       "      <td>...</td>\n",
       "      <td>...</td>\n",
       "      <td>...</td>\n",
       "      <td>...</td>\n",
       "      <td>...</td>\n",
       "      <td>...</td>\n",
       "      <td>...</td>\n",
       "      <td>...</td>\n",
       "      <td>...</td>\n",
       "      <td>...</td>\n",
       "      <td>...</td>\n",
       "      <td>...</td>\n",
       "      <td>...</td>\n",
       "      <td>...</td>\n",
       "      <td>...</td>\n",
       "      <td>...</td>\n",
       "      <td>...</td>\n",
       "      <td>...</td>\n",
       "      <td>...</td>\n",
       "    </tr>\n",
       "    <tr>\n",
       "      <th>4617</th>\n",
       "      <td>2020-10-15</td>\n",
       "      <td>18:43:01</td>\n",
       "      <td>14</td>\n",
       "      <td>4618</td>\n",
       "      <td>0.0105</td>\n",
       "      <td>g</td>\n",
       "      <td>L</td>\n",
       "      <td>NaN</td>\n",
       "      <td>NaN</td>\n",
       "      <td>NaN</td>\n",
       "      <td>...</td>\n",
       "      <td>NaN</td>\n",
       "      <td>NaN</td>\n",
       "      <td>NaN</td>\n",
       "      <td>NaN</td>\n",
       "      <td>NaN</td>\n",
       "      <td>NaN</td>\n",
       "      <td>NaN</td>\n",
       "      <td>NaN</td>\n",
       "      <td>NaN</td>\n",
       "      <td>NaN</td>\n",
       "    </tr>\n",
       "    <tr>\n",
       "      <th>4618</th>\n",
       "      <td>2020-10-15</td>\n",
       "      <td>18:43:07</td>\n",
       "      <td>14</td>\n",
       "      <td>4619</td>\n",
       "      <td>0.0093</td>\n",
       "      <td>g</td>\n",
       "      <td>L</td>\n",
       "      <td>NaN</td>\n",
       "      <td>NaN</td>\n",
       "      <td>NaN</td>\n",
       "      <td>...</td>\n",
       "      <td>NaN</td>\n",
       "      <td>NaN</td>\n",
       "      <td>NaN</td>\n",
       "      <td>NaN</td>\n",
       "      <td>NaN</td>\n",
       "      <td>NaN</td>\n",
       "      <td>NaN</td>\n",
       "      <td>NaN</td>\n",
       "      <td>NaN</td>\n",
       "      <td>NaN</td>\n",
       "    </tr>\n",
       "    <tr>\n",
       "      <th>4619</th>\n",
       "      <td>2020-10-15</td>\n",
       "      <td>18:43:13</td>\n",
       "      <td>14</td>\n",
       "      <td>4620</td>\n",
       "      <td>0.0055</td>\n",
       "      <td>g</td>\n",
       "      <td>L</td>\n",
       "      <td>NaN</td>\n",
       "      <td>NaN</td>\n",
       "      <td>NaN</td>\n",
       "      <td>...</td>\n",
       "      <td>NaN</td>\n",
       "      <td>NaN</td>\n",
       "      <td>NaN</td>\n",
       "      <td>NaN</td>\n",
       "      <td>NaN</td>\n",
       "      <td>NaN</td>\n",
       "      <td>NaN</td>\n",
       "      <td>NaN</td>\n",
       "      <td>NaN</td>\n",
       "      <td>NaN</td>\n",
       "    </tr>\n",
       "    <tr>\n",
       "      <th>4620</th>\n",
       "      <td>2020-10-15</td>\n",
       "      <td>18:43:19</td>\n",
       "      <td>14</td>\n",
       "      <td>4621</td>\n",
       "      <td>0.0037</td>\n",
       "      <td>g</td>\n",
       "      <td>L</td>\n",
       "      <td>NaN</td>\n",
       "      <td>NaN</td>\n",
       "      <td>NaN</td>\n",
       "      <td>...</td>\n",
       "      <td>NaN</td>\n",
       "      <td>NaN</td>\n",
       "      <td>NaN</td>\n",
       "      <td>NaN</td>\n",
       "      <td>NaN</td>\n",
       "      <td>NaN</td>\n",
       "      <td>NaN</td>\n",
       "      <td>NaN</td>\n",
       "      <td>NaN</td>\n",
       "      <td>NaN</td>\n",
       "    </tr>\n",
       "    <tr>\n",
       "      <th>4621</th>\n",
       "      <td>2020-10-15</td>\n",
       "      <td>18:43:25</td>\n",
       "      <td>14</td>\n",
       "      <td>4622</td>\n",
       "      <td>0.0020</td>\n",
       "      <td>g</td>\n",
       "      <td>L</td>\n",
       "      <td>NaN</td>\n",
       "      <td>NaN</td>\n",
       "      <td>NaN</td>\n",
       "      <td>...</td>\n",
       "      <td>NaN</td>\n",
       "      <td>NaN</td>\n",
       "      <td>NaN</td>\n",
       "      <td>NaN</td>\n",
       "      <td>NaN</td>\n",
       "      <td>NaN</td>\n",
       "      <td>NaN</td>\n",
       "      <td>NaN</td>\n",
       "      <td>NaN</td>\n",
       "      <td>NaN</td>\n",
       "    </tr>\n",
       "  </tbody>\n",
       "</table>\n",
       "<p>4622 rows × 26 columns</p>\n",
       "</div>"
      ],
      "text/plain": [
       "           DATE      TIME  CODE  COUNT  CH-A DATA UNIT STATE  CODE.1  COUNT.1  \\\n",
       "0    2020-10-15  08:31:27    14      1     0.0139    g   NaN     NaN      NaN   \n",
       "1    2020-10-15  08:31:33    14      2     0.0138    g   NaN     NaN      NaN   \n",
       "2    2020-10-15  08:31:39    14      3     0.0141    g   NaN     NaN      NaN   \n",
       "3    2020-10-15  08:31:46    14      4     0.0141    g   NaN     NaN      NaN   \n",
       "4    2020-10-15  08:31:52    14      5     0.0135    g   NaN     NaN      NaN   \n",
       "...         ...       ...   ...    ...        ...  ...   ...     ...      ...   \n",
       "4617 2020-10-15  18:43:01    14   4618     0.0105    g     L     NaN      NaN   \n",
       "4618 2020-10-15  18:43:07    14   4619     0.0093    g     L     NaN      NaN   \n",
       "4619 2020-10-15  18:43:13    14   4620     0.0055    g     L     NaN      NaN   \n",
       "4620 2020-10-15  18:43:19    14   4621     0.0037    g     L     NaN      NaN   \n",
       "4621 2020-10-15  18:43:25    14   4622     0.0020    g     L     NaN      NaN   \n",
       "\n",
       "      CH-B DATA  ...  UNIT.2  STD  AVE  MIN  MAX  MAX-MIN  ERROR  OVER  LOWER  \\\n",
       "0           NaN  ...     NaN  NaN  NaN  NaN  NaN      NaN    NaN   NaN    NaN   \n",
       "1           NaN  ...     NaN  NaN  NaN  NaN  NaN      NaN    NaN   NaN    NaN   \n",
       "2           NaN  ...     NaN  NaN  NaN  NaN  NaN      NaN    NaN   NaN    NaN   \n",
       "3           NaN  ...     NaN  NaN  NaN  NaN  NaN      NaN    NaN   NaN    NaN   \n",
       "4           NaN  ...     NaN  NaN  NaN  NaN  NaN      NaN    NaN   NaN    NaN   \n",
       "...         ...  ...     ...  ...  ...  ...  ...      ...    ...   ...    ...   \n",
       "4617        NaN  ...     NaN  NaN  NaN  NaN  NaN      NaN    NaN   NaN    NaN   \n",
       "4618        NaN  ...     NaN  NaN  NaN  NaN  NaN      NaN    NaN   NaN    NaN   \n",
       "4619        NaN  ...     NaN  NaN  NaN  NaN  NaN      NaN    NaN   NaN    NaN   \n",
       "4620        NaN  ...     NaN  NaN  NaN  NaN  NaN      NaN    NaN   NaN    NaN   \n",
       "4621        NaN  ...     NaN  NaN  NaN  NaN  NaN      NaN    NaN   NaN    NaN   \n",
       "\n",
       "      UPPER  \n",
       "0       NaN  \n",
       "1       NaN  \n",
       "2       NaN  \n",
       "3       NaN  \n",
       "4       NaN  \n",
       "...     ...  \n",
       "4617    NaN  \n",
       "4618    NaN  \n",
       "4619    NaN  \n",
       "4620    NaN  \n",
       "4621    NaN  \n",
       "\n",
       "[4622 rows x 26 columns]"
      ]
     },
     "execution_count": 21,
     "metadata": {},
     "output_type": "execute_result"
    }
   ],
   "source": [
    "# 배치 SGD20010 Load\n",
    "\n",
    "sgd10 = pd.read_excel('data/SGD20010.xlsx')\n",
    "sgd11 = pd.read_excel('data/SGD20011.xlsx')\n",
    "sgd12 = pd.read_excel('data/SGD20012.xlsx')\n",
    "sgd13 = pd.read_excel('data/SGD20013.xlsx')\n",
    "sgd14 = pd.read_excel('data/SGD20014.xlsx')\n",
    "sgd15 = pd.read_excel('data/SGD20015.xlsx')\n",
    "sgd16 = pd.read_excel('data/SGD20016.xlsx')\n",
    "sgd10"
   ]
  },
  {
   "cell_type": "markdown",
   "metadata": {},
   "source": [
    "## Step06 데이터 취득 시스템(유용성)검증\n",
    "\n",
    "* 정보화된 시스템을 통해 데이터 확보함\n",
    "* 충전기(FL-SG-101) 에서 충전 데이터(.csv) Collection "
   ]
  },
  {
   "cell_type": "markdown",
   "metadata": {},
   "source": [
    "## Step07 프로세스 현수준 파악\n",
    "- SGD20015 충전 목표량 : 0.0140g (0.0132g ~ 0.0148g)"
   ]
  },
  {
   "cell_type": "markdown",
   "metadata": {},
   "source": [
    " ## Step08 개선 목표 설정  \n",
    " \n",
    " * 충전기 불완전 요소 확인"
   ]
  },
  {
   "cell_type": "markdown",
   "metadata": {},
   "source": [
    "# Analyze"
   ]
  },
  {
   "cell_type": "markdown",
   "metadata": {},
   "source": [
    "## Step09 X인자 검증 계획 수립\n",
    "\n",
    "* project Y : N/A\n",
    "* x's : 신규 Column 생성"
   ]
  },
  {
   "cell_type": "markdown",
   "metadata": {},
   "source": [
    "## Step10 데이터 취득 및 전처리 실시"
   ]
  },
  {
   "cell_type": "code",
   "execution_count": 26,
   "metadata": {},
   "outputs": [],
   "source": [
    "col_list = ['TIME','COUNT','CH-A DATA','STATE']"
   ]
  },
  {
   "cell_type": "code",
   "execution_count": 27,
   "metadata": {},
   "outputs": [
    {
     "data": {
      "text/html": [
       "<div>\n",
       "<style scoped>\n",
       "    .dataframe tbody tr th:only-of-type {\n",
       "        vertical-align: middle;\n",
       "    }\n",
       "\n",
       "    .dataframe tbody tr th {\n",
       "        vertical-align: top;\n",
       "    }\n",
       "\n",
       "    .dataframe thead th {\n",
       "        text-align: right;\n",
       "    }\n",
       "</style>\n",
       "<table border=\"1\" class=\"dataframe\">\n",
       "  <thead>\n",
       "    <tr style=\"text-align: right;\">\n",
       "      <th></th>\n",
       "      <th>TIME</th>\n",
       "      <th>COUNT</th>\n",
       "      <th>CH-A DATA</th>\n",
       "      <th>STATE</th>\n",
       "    </tr>\n",
       "  </thead>\n",
       "  <tbody>\n",
       "    <tr>\n",
       "      <th>0</th>\n",
       "      <td>08:20:44</td>\n",
       "      <td>1</td>\n",
       "      <td>0.0143</td>\n",
       "      <td>NaN</td>\n",
       "    </tr>\n",
       "    <tr>\n",
       "      <th>1</th>\n",
       "      <td>08:20:50</td>\n",
       "      <td>2</td>\n",
       "      <td>0.0139</td>\n",
       "      <td>NaN</td>\n",
       "    </tr>\n",
       "    <tr>\n",
       "      <th>2</th>\n",
       "      <td>08:20:56</td>\n",
       "      <td>3</td>\n",
       "      <td>0.0133</td>\n",
       "      <td>NaN</td>\n",
       "    </tr>\n",
       "    <tr>\n",
       "      <th>3</th>\n",
       "      <td>08:21:02</td>\n",
       "      <td>4</td>\n",
       "      <td>0.0135</td>\n",
       "      <td>NaN</td>\n",
       "    </tr>\n",
       "    <tr>\n",
       "      <th>4</th>\n",
       "      <td>08:21:08</td>\n",
       "      <td>5</td>\n",
       "      <td>0.0141</td>\n",
       "      <td>NaN</td>\n",
       "    </tr>\n",
       "    <tr>\n",
       "      <th>...</th>\n",
       "      <td>...</td>\n",
       "      <td>...</td>\n",
       "      <td>...</td>\n",
       "      <td>...</td>\n",
       "    </tr>\n",
       "    <tr>\n",
       "      <th>4516</th>\n",
       "      <td>18:28:12</td>\n",
       "      <td>4517</td>\n",
       "      <td>0.0013</td>\n",
       "      <td>L</td>\n",
       "    </tr>\n",
       "    <tr>\n",
       "      <th>4517</th>\n",
       "      <td>18:28:18</td>\n",
       "      <td>4518</td>\n",
       "      <td>0.0019</td>\n",
       "      <td>L</td>\n",
       "    </tr>\n",
       "    <tr>\n",
       "      <th>4518</th>\n",
       "      <td>18:28:24</td>\n",
       "      <td>4519</td>\n",
       "      <td>0.0012</td>\n",
       "      <td>L</td>\n",
       "    </tr>\n",
       "    <tr>\n",
       "      <th>4519</th>\n",
       "      <td>18:28:30</td>\n",
       "      <td>4520</td>\n",
       "      <td>0.0022</td>\n",
       "      <td>L</td>\n",
       "    </tr>\n",
       "    <tr>\n",
       "      <th>4520</th>\n",
       "      <td>18:28:36</td>\n",
       "      <td>4521</td>\n",
       "      <td>0.0000</td>\n",
       "      <td>L</td>\n",
       "    </tr>\n",
       "  </tbody>\n",
       "</table>\n",
       "<p>4521 rows × 4 columns</p>\n",
       "</div>"
      ],
      "text/plain": [
       "          TIME  COUNT  CH-A DATA STATE\n",
       "0     08:20:44      1     0.0143   NaN\n",
       "1     08:20:50      2     0.0139   NaN\n",
       "2     08:20:56      3     0.0133   NaN\n",
       "3     08:21:02      4     0.0135   NaN\n",
       "4     08:21:08      5     0.0141   NaN\n",
       "...        ...    ...        ...   ...\n",
       "4516  18:28:12   4517     0.0013     L\n",
       "4517  18:28:18   4518     0.0019     L\n",
       "4518  18:28:24   4519     0.0012     L\n",
       "4519  18:28:30   4520     0.0022     L\n",
       "4520  18:28:36   4521     0.0000     L\n",
       "\n",
       "[4521 rows x 4 columns]"
      ]
     },
     "execution_count": 27,
     "metadata": {},
     "output_type": "execute_result"
    }
   ],
   "source": [
    "df10 = sgd10[col_list]\n",
    "df11 = sgd11[col_list]\n",
    "df12 = sgd12[col_list]\n",
    "df13 = sgd13[col_list]\n",
    "df14 = sgd14[col_list]\n",
    "df15 = sgd15[col_list]\n",
    "df16 = sgd16[col_list]\n",
    "df11"
   ]
  },
  {
   "cell_type": "code",
   "execution_count": 32,
   "metadata": {},
   "outputs": [
    {
     "name": "stderr",
     "output_type": "stream",
     "text": [
      "<ipython-input-32-33ae6ae01100>:4: SettingWithCopyWarning: \n",
      "A value is trying to be set on a copy of a slice from a DataFrame.\n",
      "Try using .loc[row_indexer,col_indexer] = value instead\n",
      "\n",
      "See the caveats in the documentation: https://pandas.pydata.org/pandas-docs/stable/user_guide/indexing.html#returning-a-view-versus-a-copy\n",
      "  df10['TypeNum'] = df10['STATE'].apply(lambda x: 0 if x == 'L' else 2 if x == 'U' else 1)\n",
      "<ipython-input-32-33ae6ae01100>:5: SettingWithCopyWarning: \n",
      "A value is trying to be set on a copy of a slice from a DataFrame.\n",
      "Try using .loc[row_indexer,col_indexer] = value instead\n",
      "\n",
      "See the caveats in the documentation: https://pandas.pydata.org/pandas-docs/stable/user_guide/indexing.html#returning-a-view-versus-a-copy\n",
      "  df11['TypeNum'] = df11['STATE'].apply(lambda x: 0 if x == 'L' else 2 if x == 'U' else 1)\n",
      "<ipython-input-32-33ae6ae01100>:6: SettingWithCopyWarning: \n",
      "A value is trying to be set on a copy of a slice from a DataFrame.\n",
      "Try using .loc[row_indexer,col_indexer] = value instead\n",
      "\n",
      "See the caveats in the documentation: https://pandas.pydata.org/pandas-docs/stable/user_guide/indexing.html#returning-a-view-versus-a-copy\n",
      "  df12['TypeNum'] = df12['STATE'].apply(lambda x: 0 if x == 'L' else 2 if x == 'U' else 1)\n",
      "<ipython-input-32-33ae6ae01100>:7: SettingWithCopyWarning: \n",
      "A value is trying to be set on a copy of a slice from a DataFrame.\n",
      "Try using .loc[row_indexer,col_indexer] = value instead\n",
      "\n",
      "See the caveats in the documentation: https://pandas.pydata.org/pandas-docs/stable/user_guide/indexing.html#returning-a-view-versus-a-copy\n",
      "  df13['TypeNum'] = df13['STATE'].apply(lambda x: 0 if x == 'L' else 2 if x == 'U' else 1)\n",
      "<ipython-input-32-33ae6ae01100>:8: SettingWithCopyWarning: \n",
      "A value is trying to be set on a copy of a slice from a DataFrame.\n",
      "Try using .loc[row_indexer,col_indexer] = value instead\n",
      "\n",
      "See the caveats in the documentation: https://pandas.pydata.org/pandas-docs/stable/user_guide/indexing.html#returning-a-view-versus-a-copy\n",
      "  df14['TypeNum'] = df14['STATE'].apply(lambda x: 0 if x == 'L' else 2 if x == 'U' else 1)\n",
      "<ipython-input-32-33ae6ae01100>:9: SettingWithCopyWarning: \n",
      "A value is trying to be set on a copy of a slice from a DataFrame.\n",
      "Try using .loc[row_indexer,col_indexer] = value instead\n",
      "\n",
      "See the caveats in the documentation: https://pandas.pydata.org/pandas-docs/stable/user_guide/indexing.html#returning-a-view-versus-a-copy\n",
      "  df15['TypeNum'] = df15['STATE'].apply(lambda x: 0 if x == 'L' else 2 if x == 'U' else 1)\n",
      "<ipython-input-32-33ae6ae01100>:10: SettingWithCopyWarning: \n",
      "A value is trying to be set on a copy of a slice from a DataFrame.\n",
      "Try using .loc[row_indexer,col_indexer] = value instead\n",
      "\n",
      "See the caveats in the documentation: https://pandas.pydata.org/pandas-docs/stable/user_guide/indexing.html#returning-a-view-versus-a-copy\n",
      "  df16['TypeNum'] = df16['STATE'].apply(lambda x: 0 if x == 'L' else 2 if x == 'U' else 1)\n"
     ]
    },
    {
     "data": {
      "text/html": [
       "<div>\n",
       "<style scoped>\n",
       "    .dataframe tbody tr th:only-of-type {\n",
       "        vertical-align: middle;\n",
       "    }\n",
       "\n",
       "    .dataframe tbody tr th {\n",
       "        vertical-align: top;\n",
       "    }\n",
       "\n",
       "    .dataframe thead th {\n",
       "        text-align: right;\n",
       "    }\n",
       "</style>\n",
       "<table border=\"1\" class=\"dataframe\">\n",
       "  <thead>\n",
       "    <tr style=\"text-align: right;\">\n",
       "      <th></th>\n",
       "      <th>TIME</th>\n",
       "      <th>COUNT</th>\n",
       "      <th>CH-A DATA</th>\n",
       "      <th>STATE</th>\n",
       "      <th>TypeNum</th>\n",
       "    </tr>\n",
       "  </thead>\n",
       "  <tbody>\n",
       "    <tr>\n",
       "      <th>0</th>\n",
       "      <td>08:31:41</td>\n",
       "      <td>1</td>\n",
       "      <td>0.0134</td>\n",
       "      <td>NaN</td>\n",
       "      <td>1</td>\n",
       "    </tr>\n",
       "    <tr>\n",
       "      <th>1</th>\n",
       "      <td>08:31:48</td>\n",
       "      <td>2</td>\n",
       "      <td>0.0145</td>\n",
       "      <td>NaN</td>\n",
       "      <td>1</td>\n",
       "    </tr>\n",
       "    <tr>\n",
       "      <th>2</th>\n",
       "      <td>08:31:55</td>\n",
       "      <td>3</td>\n",
       "      <td>0.0131</td>\n",
       "      <td>NaN</td>\n",
       "      <td>1</td>\n",
       "    </tr>\n",
       "    <tr>\n",
       "      <th>3</th>\n",
       "      <td>08:32:02</td>\n",
       "      <td>4</td>\n",
       "      <td>0.0144</td>\n",
       "      <td>NaN</td>\n",
       "      <td>1</td>\n",
       "    </tr>\n",
       "    <tr>\n",
       "      <th>4</th>\n",
       "      <td>08:32:10</td>\n",
       "      <td>5</td>\n",
       "      <td>0.0143</td>\n",
       "      <td>NaN</td>\n",
       "      <td>1</td>\n",
       "    </tr>\n",
       "    <tr>\n",
       "      <th>...</th>\n",
       "      <td>...</td>\n",
       "      <td>...</td>\n",
       "      <td>...</td>\n",
       "      <td>...</td>\n",
       "      <td>...</td>\n",
       "    </tr>\n",
       "    <tr>\n",
       "      <th>4461</th>\n",
       "      <td>18:50:51</td>\n",
       "      <td>4462</td>\n",
       "      <td>0.0092</td>\n",
       "      <td>L</td>\n",
       "      <td>0</td>\n",
       "    </tr>\n",
       "    <tr>\n",
       "      <th>4462</th>\n",
       "      <td>18:50:58</td>\n",
       "      <td>4463</td>\n",
       "      <td>0.0072</td>\n",
       "      <td>L</td>\n",
       "      <td>0</td>\n",
       "    </tr>\n",
       "    <tr>\n",
       "      <th>4463</th>\n",
       "      <td>18:51:05</td>\n",
       "      <td>4464</td>\n",
       "      <td>0.0043</td>\n",
       "      <td>L</td>\n",
       "      <td>0</td>\n",
       "    </tr>\n",
       "    <tr>\n",
       "      <th>4464</th>\n",
       "      <td>18:51:13</td>\n",
       "      <td>4465</td>\n",
       "      <td>0.0043</td>\n",
       "      <td>L</td>\n",
       "      <td>0</td>\n",
       "    </tr>\n",
       "    <tr>\n",
       "      <th>4465</th>\n",
       "      <td>18:51:20</td>\n",
       "      <td>4466</td>\n",
       "      <td>0.0058</td>\n",
       "      <td>L</td>\n",
       "      <td>0</td>\n",
       "    </tr>\n",
       "  </tbody>\n",
       "</table>\n",
       "<p>4466 rows × 5 columns</p>\n",
       "</div>"
      ],
      "text/plain": [
       "          TIME  COUNT  CH-A DATA STATE  TypeNum\n",
       "0     08:31:41      1     0.0134   NaN        1\n",
       "1     08:31:48      2     0.0145   NaN        1\n",
       "2     08:31:55      3     0.0131   NaN        1\n",
       "3     08:32:02      4     0.0144   NaN        1\n",
       "4     08:32:10      5     0.0143   NaN        1\n",
       "...        ...    ...        ...   ...      ...\n",
       "4461  18:50:51   4462     0.0092     L        0\n",
       "4462  18:50:58   4463     0.0072     L        0\n",
       "4463  18:51:05   4464     0.0043     L        0\n",
       "4464  18:51:13   4465     0.0043     L        0\n",
       "4465  18:51:20   4466     0.0058     L        0\n",
       "\n",
       "[4466 rows x 5 columns]"
      ]
     },
     "execution_count": 32,
     "metadata": {},
     "output_type": "execute_result"
    }
   ],
   "source": [
    "# Typenumber 추가\n",
    "# 0 -> 미량충전 / 1 -> 정상 / 2 -> 과충전\n",
    "\n",
    "df10['TypeNum'] = df10['STATE'].apply(lambda x: 0 if x == 'L' else 2 if x == 'U' else 1)\n",
    "df11['TypeNum'] = df11['STATE'].apply(lambda x: 0 if x == 'L' else 2 if x == 'U' else 1)\n",
    "df12['TypeNum'] = df12['STATE'].apply(lambda x: 0 if x == 'L' else 2 if x == 'U' else 1)\n",
    "df13['TypeNum'] = df13['STATE'].apply(lambda x: 0 if x == 'L' else 2 if x == 'U' else 1)\n",
    "df14['TypeNum'] = df14['STATE'].apply(lambda x: 0 if x == 'L' else 2 if x == 'U' else 1)\n",
    "df15['TypeNum'] = df15['STATE'].apply(lambda x: 0 if x == 'L' else 2 if x == 'U' else 1)\n",
    "df16['TypeNum'] = df16['STATE'].apply(lambda x: 0 if x == 'L' else 2 if x == 'U' else 1)\n",
    "df16"
   ]
  },
  {
   "cell_type": "markdown",
   "metadata": {},
   "source": [
    "## Step11 데이터 탐색\n",
    "\n",
    "* Graph 분석"
   ]
  },
  {
   "cell_type": "code",
   "execution_count": 19,
   "metadata": {},
   "outputs": [],
   "source": [
    "import seaborn as sns; sns.set()"
   ]
  },
  {
   "cell_type": "code",
   "execution_count": 34,
   "metadata": {},
   "outputs": [
    {
     "data": {
      "text/plain": [
       "<seaborn.axisgrid.FacetGrid at 0x1d57406b7f0>"
      ]
     },
     "execution_count": 34,
     "metadata": {},
     "output_type": "execute_result"
    },
    {
     "data": {
      "image/png": "[encoded data removed]",
      "text/plain": [
       "<Figure size 420.175x360 with 1 Axes>"
      ]
     },
     "metadata": {},
     "output_type": "display_data"
    }
   ],
   "source": [
    "# 정상 배치 SGD20010\n",
    "\n",
    "sns.displot(df10, x=\"CH-A DATA\", hue=\"TypeNum\")"
   ]
  },
  {
   "cell_type": "code",
   "execution_count": 35,
   "metadata": {},
   "outputs": [
    {
     "data": {
      "text/plain": [
       "<seaborn.axisgrid.FacetGrid at 0x1d5743d7eb0>"
      ]
     },
     "execution_count": 35,
     "metadata": {},
     "output_type": "execute_result"
    },
    {
     "data": {
      "image/png": "[encoded data removed]",
      "text/plain": [
       "<Figure size 420.175x360 with 1 Axes>"
      ]
     },
     "metadata": {},
     "output_type": "display_data"
    }
   ],
   "source": [
    "# 정상 배치 SGD20011\n",
    "\n",
    "sns.displot(df11, x=\"CH-A DATA\", hue=\"TypeNum\")"
   ]
  },
  {
   "cell_type": "code",
   "execution_count": 36,
   "metadata": {},
   "outputs": [
    {
     "data": {
      "text/plain": [
       "<seaborn.axisgrid.FacetGrid at 0x1d56ed63df0>"
      ]
     },
     "execution_count": 36,
     "metadata": {},
     "output_type": "execute_result"
    },
    {
     "data": {
      "image/png": "[encoded data removed]",
      "text/plain": [
       "<Figure size 420.175x360 with 1 Axes>"
      ]
     },
     "metadata": {},
     "output_type": "display_data"
    }
   ],
   "source": [
    "# 정상 배치 SGD20012\n",
    "\n",
    "sns.displot(df12, x=\"CH-A DATA\", hue=\"TypeNum\")"
   ]
  },
  {
   "cell_type": "code",
   "execution_count": 37,
   "metadata": {},
   "outputs": [
    {
     "data": {
      "text/plain": [
       "<seaborn.axisgrid.FacetGrid at 0x1d5726c5610>"
      ]
     },
     "execution_count": 37,
     "metadata": {},
     "output_type": "execute_result"
    },
    {
     "data": {
      "image/png": "[encoded data removed]",
      "text/plain": [
       "<Figure size 420.175x360 with 1 Axes>"
      ]
     },
     "metadata": {},
     "output_type": "display_data"
    }
   ],
   "source": [
    "# 정상 배치 SGD20013\n",
    "\n",
    "sns.displot(df13, x=\"CH-A DATA\", hue=\"TypeNum\")"
   ]
  },
  {
   "cell_type": "code",
   "execution_count": 38,
   "metadata": {},
   "outputs": [
    {
     "data": {
      "text/plain": [
       "<seaborn.axisgrid.FacetGrid at 0x1d57400a5e0>"
      ]
     },
     "execution_count": 38,
     "metadata": {},
     "output_type": "execute_result"
    },
    {
     "data": {
      "image/png": "[encoded data removed]",
      "text/plain": [
       "<Figure size 420.175x360 with 1 Axes>"
      ]
     },
     "metadata": {},
     "output_type": "display_data"
    }
   ],
   "source": [
    "# 정상 배치 SGD20014\n",
    "\n",
    "sns.displot(df14, x=\"CH-A DATA\", hue=\"TypeNum\")"
   ]
  },
  {
   "cell_type": "code",
   "execution_count": 30,
   "metadata": {},
   "outputs": [
    {
     "data": {
      "text/plain": [
       "<seaborn.axisgrid.FacetGrid at 0x1d571dacbe0>"
      ]
     },
     "execution_count": 30,
     "metadata": {},
     "output_type": "execute_result"
    },
    {
     "data": {
      "image/png": "[encoded data removed]",
      "text/plain": [
       "<Figure size 420.175x360 with 1 Axes>"
      ]
     },
     "metadata": {},
     "output_type": "display_data"
    }
   ],
   "source": [
    "# 일탈 배치 SGD20015\n",
    "\n",
    "sns.displot(df15, x=\"CH-A DATA\", hue=\"TypeNum\")"
   ]
  },
  {
   "cell_type": "code",
   "execution_count": 39,
   "metadata": {},
   "outputs": [
    {
     "data": {
      "text/plain": [
       "<seaborn.axisgrid.FacetGrid at 0x1d5744513d0>"
      ]
     },
     "execution_count": 39,
     "metadata": {},
     "output_type": "execute_result"
    },
    {
     "data": {
      "image/png": "[encoded data removed]",
      "text/plain": [
       "<Figure size 420.175x360 with 1 Axes>"
      ]
     },
     "metadata": {},
     "output_type": "display_data"
    }
   ],
   "source": [
    "# 정상 배치 SGD20016\n",
    "\n",
    "sns.displot(df16, x=\"CH-A DATA\", hue=\"TypeNum\")"
   ]
  },
  {
   "cell_type": "markdown",
   "metadata": {},
   "source": [
    "## Step12 핵심인자 선정\n",
    "\n",
    "- SGD20010~16 (대조군) 은 Type 1(적정충전)의 데이터가 정상형(정규분포)에 가까운 반면\n",
    "- SGD20015 (일탈)은 Type 1(적정충전)의 데이터가 이빠진형, 쌍봉형에 가까움"
   ]
  },
  {
   "cell_type": "markdown",
   "metadata": {},
   "source": [
    "## Step13 분석 모형 검토\n",
    "\n",
    "* 각 배치별 적정 충전, 불량 충전 수량을 비교함"
   ]
  },
  {
   "cell_type": "code",
   "execution_count": 80,
   "metadata": {
    "scrolled": true
   },
   "outputs": [
    {
     "data": {
      "text/html": [
       "<div>\n",
       "<style scoped>\n",
       "    .dataframe tbody tr th:only-of-type {\n",
       "        vertical-align: middle;\n",
       "    }\n",
       "\n",
       "    .dataframe tbody tr th {\n",
       "        vertical-align: top;\n",
       "    }\n",
       "\n",
       "    .dataframe thead th {\n",
       "        text-align: right;\n",
       "    }\n",
       "</style>\n",
       "<table border=\"1\" class=\"dataframe\">\n",
       "  <thead>\n",
       "    <tr style=\"text-align: right;\">\n",
       "      <th></th>\n",
       "      <th>TypeNum</th>\n",
       "    </tr>\n",
       "  </thead>\n",
       "  <tbody>\n",
       "    <tr>\n",
       "      <th>1</th>\n",
       "      <td>3465</td>\n",
       "    </tr>\n",
       "    <tr>\n",
       "      <th>0</th>\n",
       "      <td>605</td>\n",
       "    </tr>\n",
       "    <tr>\n",
       "      <th>2</th>\n",
       "      <td>396</td>\n",
       "    </tr>\n",
       "  </tbody>\n",
       "</table>\n",
       "</div>"
      ],
      "text/plain": [
       "   TypeNum\n",
       "1     3465\n",
       "0      605\n",
       "2      396"
      ]
     },
     "execution_count": 80,
     "metadata": {},
     "output_type": "execute_result"
    }
   ],
   "source": [
    "# 미량충전, 적정충전, 과충전 수량 확인\n",
    "\n",
    "TN10 = pd.DataFrame(pd.value_counts(df10[\"TypeNum\"]))\n",
    "TN11 = pd.DataFrame(pd.value_counts(df11[\"TypeNum\"]))\n",
    "TN12 = pd.DataFrame(pd.value_counts(df12[\"TypeNum\"]))\n",
    "TN13 = pd.DataFrame(pd.value_counts(df13[\"TypeNum\"]))\n",
    "TN14 = pd.DataFrame(pd.value_counts(df14[\"TypeNum\"]))\n",
    "TN15 = pd.DataFrame(pd.value_counts(df15[\"TypeNum\"]))\n",
    "TN16 = pd.DataFrame(pd.value_counts(df16[\"TypeNum\"]))\n",
    "TN16"
   ]
  },
  {
   "cell_type": "code",
   "execution_count": 101,
   "metadata": {},
   "outputs": [
    {
     "data": {
      "text/html": [
       "<div>\n",
       "<style scoped>\n",
       "    .dataframe tbody tr th:only-of-type {\n",
       "        vertical-align: middle;\n",
       "    }\n",
       "\n",
       "    .dataframe tbody tr th {\n",
       "        vertical-align: top;\n",
       "    }\n",
       "\n",
       "    .dataframe thead th {\n",
       "        text-align: right;\n",
       "    }\n",
       "</style>\n",
       "<table border=\"1\" class=\"dataframe\">\n",
       "  <thead>\n",
       "    <tr style=\"text-align: right;\">\n",
       "      <th></th>\n",
       "      <th>1</th>\n",
       "      <th>0</th>\n",
       "      <th>2</th>\n",
       "    </tr>\n",
       "  </thead>\n",
       "  <tbody>\n",
       "    <tr>\n",
       "      <th>TypeNum</th>\n",
       "      <td>3465</td>\n",
       "      <td>605</td>\n",
       "      <td>396</td>\n",
       "    </tr>\n",
       "  </tbody>\n",
       "</table>\n",
       "</div>"
      ],
      "text/plain": [
       "            1    0    2\n",
       "TypeNum  3465  605  396"
      ]
     },
     "execution_count": 101,
     "metadata": {},
     "output_type": "execute_result"
    }
   ],
   "source": [
    "T10 = TN10.transpose()\n",
    "T11 = TN11.transpose()\n",
    "T12 = TN12.transpose()\n",
    "T13 = TN13.transpose()\n",
    "T14 = TN14.transpose()\n",
    "T15 = TN15.transpose()\n",
    "T16 = TN16.transpose()\n",
    "T16"
   ]
  },
  {
   "cell_type": "code",
   "execution_count": 105,
   "metadata": {},
   "outputs": [
    {
     "data": {
      "text/html": [
       "<div>\n",
       "<style scoped>\n",
       "    .dataframe tbody tr th:only-of-type {\n",
       "        vertical-align: middle;\n",
       "    }\n",
       "\n",
       "    .dataframe tbody tr th {\n",
       "        vertical-align: top;\n",
       "    }\n",
       "\n",
       "    .dataframe thead th {\n",
       "        text-align: right;\n",
       "    }\n",
       "</style>\n",
       "<table border=\"1\" class=\"dataframe\">\n",
       "  <thead>\n",
       "    <tr style=\"text-align: right;\">\n",
       "      <th></th>\n",
       "      <th>1</th>\n",
       "      <th>0</th>\n",
       "      <th>2</th>\n",
       "    </tr>\n",
       "  </thead>\n",
       "  <tbody>\n",
       "    <tr>\n",
       "      <th>TypeNum</th>\n",
       "      <td>4076</td>\n",
       "      <td>292</td>\n",
       "      <td>254</td>\n",
       "    </tr>\n",
       "    <tr>\n",
       "      <th>TypeNum</th>\n",
       "      <td>3445</td>\n",
       "      <td>632</td>\n",
       "      <td>444</td>\n",
       "    </tr>\n",
       "    <tr>\n",
       "      <th>TypeNum</th>\n",
       "      <td>3667</td>\n",
       "      <td>452</td>\n",
       "      <td>255</td>\n",
       "    </tr>\n",
       "    <tr>\n",
       "      <th>TypeNum</th>\n",
       "      <td>3780</td>\n",
       "      <td>406</td>\n",
       "      <td>345</td>\n",
       "    </tr>\n",
       "    <tr>\n",
       "      <th>TypeNum</th>\n",
       "      <td>3712</td>\n",
       "      <td>409</td>\n",
       "      <td>364</td>\n",
       "    </tr>\n",
       "    <tr>\n",
       "      <th>TypeNum</th>\n",
       "      <td>3094</td>\n",
       "      <td>769</td>\n",
       "      <td>536</td>\n",
       "    </tr>\n",
       "    <tr>\n",
       "      <th>TypeNum</th>\n",
       "      <td>3465</td>\n",
       "      <td>605</td>\n",
       "      <td>396</td>\n",
       "    </tr>\n",
       "  </tbody>\n",
       "</table>\n",
       "</div>"
      ],
      "text/plain": [
       "            1    0    2\n",
       "TypeNum  4076  292  254\n",
       "TypeNum  3445  632  444\n",
       "TypeNum  3667  452  255\n",
       "TypeNum  3780  406  345\n",
       "TypeNum  3712  409  364\n",
       "TypeNum  3094  769  536\n",
       "TypeNum  3465  605  396"
      ]
     },
     "execution_count": 105,
     "metadata": {},
     "output_type": "execute_result"
    }
   ],
   "source": [
    "TZ = pd.concat([T10,T11,T12,T13,T14,T15,T16], axis=0)\n",
    "TZ"
   ]
  },
  {
   "cell_type": "code",
   "execution_count": 106,
   "metadata": {},
   "outputs": [
    {
     "data": {
      "text/plain": [
       "<AxesSubplot:>"
      ]
     },
     "execution_count": 106,
     "metadata": {},
     "output_type": "execute_result"
    },
    {
     "data": {
      "image/png": "[encoded data removed]",
      "text/plain": [
       "<Figure size 864x576 with 1 Axes>"
      ]
     },
     "metadata": {},
     "output_type": "display_data"
    }
   ],
   "source": [
    "TZ.plot(kind='bar')"
   ]
  },
  {
   "cell_type": "markdown",
   "metadata": {},
   "source": [
    " - SGD20015 (일탈) 은 다른 정상 배치와 비교할 때\n",
    " - Type 1 (적정충전) 수량(v)이 적고, Type 0/2 (미량충전/과량충전) 수량(v)이 많음"
   ]
  },
  {
   "cell_type": "markdown",
   "metadata": {},
   "source": [
    "# Improve"
   ]
  },
  {
   "cell_type": "markdown",
   "metadata": {},
   "source": [
    "## Step14 최적 모형 수립\n",
    "\n",
    "* 각 배치별 충전량 불량으로 인한 폐기량을 비교하고자 함"
   ]
  },
  {
   "cell_type": "code",
   "execution_count": 136,
   "metadata": {},
   "outputs": [],
   "source": [
    "import matplotlib.pyplot as plt\n",
    "from matplotlib import style"
   ]
  },
  {
   "cell_type": "code",
   "execution_count": 121,
   "metadata": {},
   "outputs": [],
   "source": [
    "# 일탈 배치 미량충전, 적정충전, 과충전 Dataframe 분리\n",
    "\n",
    "df10_0 = df10.loc[df10['TypeNum']==0]\n",
    "df10_1 = df10.loc[df10['TypeNum']==1]\n",
    "df10_2 = df10.loc[df10['TypeNum']==2]\n",
    "df11_0 = df11.loc[df11['TypeNum']==0]\n",
    "df11_1 = df11.loc[df11['TypeNum']==1]\n",
    "df11_2 = df11.loc[df11['TypeNum']==2]\n",
    "df12_0 = df12.loc[df12['TypeNum']==0]\n",
    "df12_1 = df12.loc[df12['TypeNum']==1]\n",
    "df12_2 = df12.loc[df12['TypeNum']==2]\n",
    "df13_0 = df13.loc[df13['TypeNum']==0]\n",
    "df13_1 = df13.loc[df13['TypeNum']==1]\n",
    "df13_2 = df13.loc[df13['TypeNum']==2]\n",
    "df14_0 = df14.loc[df14['TypeNum']==0]\n",
    "df14_1 = df14.loc[df14['TypeNum']==1]\n",
    "df14_2 = df14.loc[df14['TypeNum']==2]\n",
    "df15_0 = df15.loc[df15['TypeNum']==0]\n",
    "df15_1 = df15.loc[df15['TypeNum']==1]\n",
    "df15_2 = df15.loc[df15['TypeNum']==2]\n",
    "df16_0 = df16.loc[df16['TypeNum']==0]\n",
    "df16_1 = df16.loc[df16['TypeNum']==1]\n",
    "df16_2 = df16.loc[df16['TypeNum']==2]"
   ]
  },
  {
   "cell_type": "code",
   "execution_count": 126,
   "metadata": {},
   "outputs": [
    {
     "data": {
      "text/plain": [
       "13.203100000000003"
      ]
     },
     "execution_count": 126,
     "metadata": {},
     "output_type": "execute_result"
    }
   ],
   "source": [
    "# 각 배치별 미량충전(폐기) + 과량 충전(폐기) 분말 총합 비교\n",
    "\n",
    "S10 = sum(df10_0['CH-A DATA']) + sum(df10_2['CH-A DATA'])\n",
    "S11 = sum(df11_0['CH-A DATA']) + sum(df11_2['CH-A DATA'])\n",
    "S12 = sum(df12_0['CH-A DATA']) + sum(df12_2['CH-A DATA'])\n",
    "S13 = sum(df13_0['CH-A DATA']) + sum(df13_2['CH-A DATA'])\n",
    "S14 = sum(df14_0['CH-A DATA']) + sum(df14_2['CH-A DATA'])\n",
    "S15 = sum(df15_0['CH-A DATA']) + sum(df15_2['CH-A DATA'])\n",
    "S16 = sum(df16_0['CH-A DATA']) + sum(df16_2['CH-A DATA'])\n",
    "S16"
   ]
  },
  {
   "cell_type": "code",
   "execution_count": 139,
   "metadata": {},
   "outputs": [
    {
     "data": {
      "text/html": [
       "<div>\n",
       "<style scoped>\n",
       "    .dataframe tbody tr th:only-of-type {\n",
       "        vertical-align: middle;\n",
       "    }\n",
       "\n",
       "    .dataframe tbody tr th {\n",
       "        vertical-align: top;\n",
       "    }\n",
       "\n",
       "    .dataframe thead th {\n",
       "        text-align: right;\n",
       "    }\n",
       "</style>\n",
       "<table border=\"1\" class=\"dataframe\">\n",
       "  <thead>\n",
       "    <tr style=\"text-align: right;\">\n",
       "      <th></th>\n",
       "      <th>0</th>\n",
       "    </tr>\n",
       "  </thead>\n",
       "  <tbody>\n",
       "    <tr>\n",
       "      <th>0</th>\n",
       "      <td>7.4038</td>\n",
       "    </tr>\n",
       "    <tr>\n",
       "      <th>1</th>\n",
       "      <td>14.3334</td>\n",
       "    </tr>\n",
       "    <tr>\n",
       "      <th>2</th>\n",
       "      <td>9.3812</td>\n",
       "    </tr>\n",
       "    <tr>\n",
       "      <th>3</th>\n",
       "      <td>10.2692</td>\n",
       "    </tr>\n",
       "    <tr>\n",
       "      <th>4</th>\n",
       "      <td>10.5122</td>\n",
       "    </tr>\n",
       "    <tr>\n",
       "      <th>5</th>\n",
       "      <td>17.7400</td>\n",
       "    </tr>\n",
       "    <tr>\n",
       "      <th>6</th>\n",
       "      <td>13.2031</td>\n",
       "    </tr>\n",
       "  </tbody>\n",
       "</table>\n",
       "</div>"
      ],
      "text/plain": [
       "         0\n",
       "0   7.4038\n",
       "1  14.3334\n",
       "2   9.3812\n",
       "3  10.2692\n",
       "4  10.5122\n",
       "5  17.7400\n",
       "6  13.2031"
      ]
     },
     "execution_count": 139,
     "metadata": {},
     "output_type": "execute_result"
    }
   ],
   "source": [
    "S14_list = [S10,S11,S12,S13,S14,S15,S16]\n",
    "S14_List = pd.DataFrame(S14_list)\n",
    "\n",
    "S14_List"
   ]
  },
  {
   "cell_type": "code",
   "execution_count": 144,
   "metadata": {},
   "outputs": [
    {
     "data": {
      "image/png": "[encoded data removed]",
      "text/plain": [
       "<Figure size 864x576 with 1 Axes>"
      ]
     },
     "metadata": {
      "needs_background": "light"
     },
     "output_type": "display_data"
    }
   ],
   "source": [
    "plt.plot(S14_List, marker='*', color = 'r')\n",
    "plt.show()"
   ]
  },
  {
   "cell_type": "markdown",
   "metadata": {},
   "source": [
    "## Step15 모형 검증 및 최적화\n",
    "\n",
    "- 일탈 배치 폐기량 기술"
   ]
  },
  {
   "cell_type": "code",
   "execution_count": 120,
   "metadata": {},
   "outputs": [],
   "source": [
    "# 일탈 배치 미량충전, 적정충전, 과충전 Dataframe 분리\n",
    "\n",
    "df15_0 = df15.loc[df15['TypeNum']==0]\n",
    "df15_1 = df15.loc[df15['TypeNum']==1]\n",
    "df15_2 = df15.loc[df15['TypeNum']==2]"
   ]
  },
  {
   "cell_type": "code",
   "execution_count": 114,
   "metadata": {},
   "outputs": [
    {
     "data": {
      "text/plain": [
       "9.51559999999999"
      ]
     },
     "execution_count": 114,
     "metadata": {},
     "output_type": "execute_result"
    }
   ],
   "source": [
    "# 일탈 배치 미량충전(폐기) 분말 총합 9.5156g\n",
    "\n",
    "sum(df15_0['CH-A DATA'])"
   ]
  },
  {
   "cell_type": "code",
   "execution_count": 116,
   "metadata": {
    "scrolled": true
   },
   "outputs": [
    {
     "data": {
      "text/plain": [
       "8.224399999999989"
      ]
     },
     "execution_count": 116,
     "metadata": {},
     "output_type": "execute_result"
    }
   ],
   "source": [
    "# 일탈 배치 과충전(폐기) 분말 총합 8.2244g\n",
    "\n",
    "sum(df15_2['CH-A DATA'])"
   ]
  },
  {
   "cell_type": "markdown",
   "metadata": {},
   "source": [
    "## Step16 개선 결과 검증(Pilot Test)"
   ]
  },
  {
   "cell_type": "code",
   "execution_count": 117,
   "metadata": {},
   "outputs": [
    {
     "data": {
      "text/plain": [
       "22.767999999999997"
      ]
     },
     "execution_count": 117,
     "metadata": {},
     "output_type": "execute_result"
    }
   ],
   "source": [
    "# 일탈 배치 충전 못하고 페기된 분말량 : 22.768g\n",
    "\n",
    "9.5156 + 8.2244 + 1.128 + 3.9"
   ]
  },
  {
   "cell_type": "markdown",
   "metadata": {},
   "source": [
    "일탈 배치 폐기된 양 총합 22.768g\n",
    "\n",
    "- 9.5156 g : 미량충전(폐기) 분말 총합\n",
    "- 8.2244 g : 과충전(폐기) 분말 총합\n",
    "- 1.128 g : 메인 호퍼 내부 잔류 분말량\n",
    "- 3.9 g : Auger 잔류 분말량"
   ]
  },
  {
   "cell_type": "markdown",
   "metadata": {},
   "source": [
    "# Control"
   ]
  },
  {
   "cell_type": "markdown",
   "metadata": {},
   "source": [
    "## Step17 최적모형 모니터링"
   ]
  },
  {
   "cell_type": "markdown",
   "metadata": {},
   "source": [
    " 폐기량 비교"
   ]
  },
  {
   "cell_type": "code",
   "execution_count": 123,
   "metadata": {},
   "outputs": [
    {
     "data": {
      "text/plain": [
       "7.470799999999986"
      ]
     },
     "execution_count": 123,
     "metadata": {},
     "output_type": "execute_result"
    }
   ],
   "source": [
    "# SGD20015 (일탈) 은 SGD20013(대조군) 보다 충전 불량으로 인한 폐기량이 7.471g 많음\n",
    "\n",
    "sum(df15_0['CH-A DATA']) + sum(df15_2['CH-A DATA']) - (sum(df13_0['CH-A DATA']) + sum(df13_2['CH-A DATA']))"
   ]
  },
  {
   "cell_type": "markdown",
   "metadata": {},
   "source": [
    "적정 충전량 비교"
   ]
  },
  {
   "cell_type": "code",
   "execution_count": 127,
   "metadata": {},
   "outputs": [
    {
     "data": {
      "text/plain": [
       "43.261300000000034"
      ]
     },
     "execution_count": 127,
     "metadata": {},
     "output_type": "execute_result"
    }
   ],
   "source": [
    "# 일탈 배치 적정충전 분말 총합 43.2613g\n",
    "\n",
    "sum(df_1['CH-A DATA'])"
   ]
  },
  {
   "cell_type": "code",
   "execution_count": 129,
   "metadata": {},
   "outputs": [
    {
     "data": {
      "text/plain": [
       "52.55400000000001"
      ]
     },
     "execution_count": 129,
     "metadata": {},
     "output_type": "execute_result"
    }
   ],
   "source": [
    "# 정상 배치 적정충전 분말 총합 52.5540g\n",
    "\n",
    "sum(df2_1['CH-A DATA'])"
   ]
  },
  {
   "cell_type": "markdown",
   "metadata": {},
   "source": [
    "## Step18 표준화 및 수평전개 "
   ]
  },
  {
   "cell_type": "markdown",
   "metadata": {},
   "source": [
    "일탈 배치(SGD20015)\n",
    "\n",
    "- 66 g (총 분말량) = 43.2613g (충전된 양) + 22.768g (폐기된 양)"
   ]
  },
  {
   "cell_type": "code",
   "execution_count": 146,
   "metadata": {
    "scrolled": true
   },
   "outputs": [
    {
     "data": {
      "text/plain": [
       "66.0293"
      ]
     },
     "execution_count": 146,
     "metadata": {},
     "output_type": "execute_result"
    }
   ],
   "source": [
    "43.2613 + 22.768"
   ]
  },
  {
   "cell_type": "markdown",
   "metadata": {},
   "source": [
    "정상 배치(SGD20013)\n",
    "\n",
    "- 68 g (총 분말량) = 52.5540g (충전된 양) + 15.475g (폐기된 양)"
   ]
  },
  {
   "cell_type": "code",
   "execution_count": 147,
   "metadata": {
    "scrolled": true
   },
   "outputs": [
    {
     "data": {
      "text/plain": [
       "68.029"
      ]
     },
     "execution_count": 147,
     "metadata": {},
     "output_type": "execute_result"
    }
   ],
   "source": [
    "52.5540 + 15.475"
   ]
  },
  {
   "cell_type": "markdown",
   "metadata": {},
   "source": [
    "--- end of script ---"
   ]
  }
 ],
 "metadata": {
  "kernelspec": {
   "display_name": "Python 3",
   "language": "python",
   "name": "python3"
  },
  "language_info": {
   "codemirror_mode": {
    "name": "ipython",
    "version": 3
   },
   "file_extension": ".py",
   "mimetype": "text/x-python",
   "name": "python",
   "nbconvert_exporter": "python",
   "pygments_lexer": "ipython3",
   "version": "3.8.5"
  },
  "toc": {
   "base_numbering": 1,
   "nav_menu": {},
   "number_sections": true,
   "sideBar": true,
   "skip_h1_title": false,
   "title_cell": "Table of Contents",
   "title_sidebar": "Contents",
   "toc_cell": false,
   "toc_position": {},
   "toc_section_display": true,
   "toc_window_display": true
  }
 },
 "nbformat": 4,
 "nbformat_minor": 4
}
