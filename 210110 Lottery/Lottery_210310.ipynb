{
 "cells": [
  {
   "cell_type": "markdown",
   "metadata": {
    "id": "8hYUfAeS9abh"
   },
   "source": [
    "# 기본형"
   ]
  },
  {
   "cell_type": "code",
   "execution_count": 1,
   "metadata": {},
   "outputs": [
    {
     "name": "stdout",
     "output_type": "stream",
     "text": [
      "[14, 15, 3, 39, 43, 29]\n"
     ]
    }
   ],
   "source": [
    "import random\n",
    "\n",
    "lotto = random.sample(range(1, 46), 6)\n",
    "\n",
    "print(lotto)"
   ]
  },
  {
   "cell_type": "markdown",
   "metadata": {},
   "source": [
    "# Rev.02_Iksan Love"
   ]
  },
  {
   "cell_type": "code",
   "execution_count": 2,
   "metadata": {},
   "outputs": [
    {
     "name": "stdout",
     "output_type": "stream",
     "text": [
      "################################\n",
      "####### Iksan Lotto #########\n",
      "################################\n",
      "\n",
      "1 번째 게임 결과:  [6, 18, 25, 28, 30, 33]\n",
      "2 번째 게임 결과:  [1, 16, 29, 32, 36, 44]\n",
      "3 번째 게임 결과:  [2, 14, 24, 34, 37, 45]\n",
      "\n",
      "\n",
      "################################\n",
      "####### Iksan Pension #######\n",
      "################################\n",
      "\n",
      "첫번째 조:  4\n",
      "두번째 조:  3\n",
      "자동생성 번호: 123333\n"
     ]
    },
    {
     "data": {
      "text/plain": [
       "0"
      ]
     },
     "execution_count": 2,
     "metadata": {},
     "output_type": "execute_result"
    }
   ],
   "source": [
    "\n",
    "import random, os, time\n",
    " \n",
    "def Lotto():\n",
    "    print(\"################################\\n####### Iksan Lotto #########\\n################################\\n\")\n",
    "    loop_count = 3\n",
    "    result = []\n",
    " \n",
    "    for i in range(loop_count):\n",
    "        temp = []\n",
    " \n",
    "        while True:\n",
    "            time.sleep(0.01)\n",
    " \n",
    "            if len(temp) == 6:\n",
    "                break\n",
    "            else:\n",
    "                temp2 = random.randint(1,45)\n",
    "                if temp2 not in temp:\n",
    "                    temp.append(temp2)\n",
    "        \n",
    "        temp.sort()\n",
    "        \n",
    "        if temp not in result:\n",
    "            result.append(temp)\n",
    " \n",
    "    for i in range(len(result)):\n",
    "        print(i+1,\"번째 게임 결과: \", result[i])\n",
    " \n",
    "def Pension():\n",
    "    print(\"\\n\\n################################\\n####### Iksan Pension #######\\n################################\\n\")\n",
    " \n",
    "    table = [1,2,3,4,5]\n",
    " \n",
    "    temp_table = random.choice(table)\n",
    "    print(\"첫번째 조: \", temp_table)\n",
    "    table.remove(temp_table)\n",
    "    print(\"두번째 조: \", random.choice(table))\n",
    " \n",
    "    print(\"자동생성 번호:\", str(random.randint(0, 999999)).zfill(6))\n",
    " \n",
    " \n",
    "if __name__ == \"__main__\":\n",
    "    Lotto()\n",
    "    Pension()\n",
    "os.system('pause')\n"
   ]
  },
  {
   "cell_type": "markdown",
   "metadata": {},
   "source": [
    "# Rev.03_Interactive"
   ]
  },
  {
   "cell_type": "code",
   "execution_count": 3,
   "metadata": {
    "colab": {
     "base_uri": "https://localhost:8080/"
    },
    "id": "AXuk2AOa8XXj",
    "outputId": "da1e3c91-b360-47bb-b7b2-1cbcd8ae4b82"
   },
   "outputs": [
    {
     "name": "stdout",
     "output_type": "stream",
     "text": [
      "예측 번호 보기\n",
      "① 로또\n",
      "② 연금 복권\n",
      "③ 나가기\n",
      "3\n",
      "종료\n"
     ]
    }
   ],
   "source": [
    "#%% lotto\n",
    "import random\n",
    "import time\n",
    " \n",
    "def Lotto():\n",
    "    lotto = [] \n",
    "    while len(lotto) != 6:\n",
    "        num = random.randrange(1, 46)\n",
    "        if(num in lotto):\n",
    "            continue\n",
    "        else:\n",
    "            lotto.append(num)\n",
    "    \n",
    "    bonus = random.randrange(1, 46)\n",
    "    while(1):\n",
    "        if(bonus in lotto):\n",
    "            bonus = random.randrange(1, 46)\n",
    "        else:\n",
    "            break;\n",
    "            \n",
    "    lotto.append(\"+\")\n",
    "    lotto.append(bonus)\n",
    "    print(\"로또 예측 번호\", end = \" = \")\n",
    "    for i in range(8):\n",
    "        print(lotto[i], end = ' ')\n",
    "        time.sleep(1)\n",
    "        \n",
    " \n",
    "def Dhlottery():\n",
    "    dhlottery = []\n",
    "    first_num = random.randint(1, 5)\n",
    "    dhlottery.append(first_num)\n",
    "    dhlottery.append(\"조\")\n",
    "    while len(dhlottery) != 8:\n",
    "        num = random.randrange(0, 10)\n",
    "        dhlottery.append(num)\n",
    "        \n",
    "    print(\"연금복권 예측 번호\", end = \" = \")\n",
    "    for i in range(8):\n",
    "        print(dhlottery[i], end = ' ')\n",
    "        time.sleep(1)\n",
    " \n",
    " \n",
    " \n",
    "msg = \"예측 번호 보기\\n① 로또\\n② 연금 복권\\n③ 나가기\\n\"\n",
    "while(1):\n",
    "    choice = int(input(msg))\n",
    "    if(choice == 1):\n",
    "        Lotto()    \n",
    "        print(\"\\n예측완료\\n\")\n",
    "        \n",
    "    elif(choice == 2):\n",
    "        Dhlottery()    \n",
    "        print(\"\\n예측완료\\n\")\n",
    "        \n",
    "    else:\n",
    "        print(\"종료\")\n",
    "        break"
   ]
  },
  {
   "cell_type": "markdown",
   "metadata": {
    "id": "-wLs3X3C9VMK"
   },
   "source": [
    "# 연금복권 (미완성)"
   ]
  },
  {
   "cell_type": "code",
   "execution_count": null,
   "metadata": {
    "id": "Blsl3uVn8oOw"
   },
   "outputs": [],
   "source": [
    "#%% lotto\n",
    "import random\n",
    "import time\n",
    "\n",
    "def Dhlottery():\n",
    "    dhlottery = []\n",
    "    first_num = random.randint(1, 5)\n",
    "    dhlottery.append(first_num)\n",
    "    dhlottery.append(\"조\")\n",
    "    while len(dhlottery) != 8:\n",
    "        num = random.randrange(0, 10)\n",
    "        dhlottery.append(num)\n",
    "        \n",
    "    print(\"연금복권 예측 번호\", end = \" = \")\n",
    "    for i in range(8):\n",
    "        print(dhlottery[i], end = ' ')\n",
    "        time.sleep(1)"
   ]
  },
  {
   "cell_type": "markdown",
   "metadata": {
    "id": "7L9doxHl9xEW"
   },
   "source": [
    "# 로또 (미완성)"
   ]
  },
  {
   "cell_type": "code",
   "execution_count": null,
   "metadata": {
    "id": "vBKYUPLo9AhY"
   },
   "outputs": [],
   "source": [
    "#%% lotto\n",
    "import random\n",
    "import time\n",
    "\n",
    "def Lotto():\n",
    "    lotto = [] \n",
    "    while len(lotto) != 6:\n",
    "        num = random.randrange(1, 46)\n",
    "        if(num in lotto):\n",
    "            continue\n",
    "        else:\n",
    "            lotto.append(num)\n",
    "    \n",
    "    bonus = random.randrange(1, 46)\n",
    "    while(1):\n",
    "        if(bonus in lotto):\n",
    "            bonus = random.randrange(1, 46)\n",
    "        else:\n",
    "            break;\n",
    "            \n",
    "    lotto.append(\"+\")\n",
    "    lotto.append(bonus)\n",
    "    print(\"로또 예측 번호\", end = \" = \")\n",
    "    for i in range(8):\n",
    "        print(lotto[i], end = ' ')\n",
    "        time.sleep(1)"
   ]
  }
 ],
 "metadata": {
  "colab": {
   "authorship_tag": "ABX9TyOZ9CmflAVFm3iRD+4tq4Iv",
   "collapsed_sections": [],
   "name": "Pension.ipynb",
   "provenance": []
  },
  "kernelspec": {
   "display_name": "Python 3",
   "language": "python",
   "name": "python3"
  },
  "language_info": {
   "codemirror_mode": {
    "name": "ipython",
    "version": 3
   },
   "file_extension": ".py",
   "mimetype": "text/x-python",
   "name": "python",
   "nbconvert_exporter": "python",
   "pygments_lexer": "ipython3",
   "version": "3.7.3"
  },
  "toc": {
   "base_numbering": 1,
   "nav_menu": {},
   "number_sections": true,
   "sideBar": true,
   "skip_h1_title": false,
   "title_cell": "Table of Contents",
   "title_sidebar": "Contents",
   "toc_cell": false,
   "toc_position": {},
   "toc_section_display": true,
   "toc_window_display": true
  }
 },
 "nbformat": 4,
 "nbformat_minor": 1
}
